{
 "cells": [
  {
   "cell_type": "markdown",
   "id": "944801ba",
   "metadata": {},
   "source": [
    "### 周末摆烂学的比较慢捏(又拖了好几天，最近ddl比较多 TAT ) 布尔索引 二三四维矩阵转置 交换 np.where（好用）线代基础运算 plt作图 随机漫步 "
   ]
  },
  {
   "cell_type": "markdown",
   "id": "c0d4b1f9",
   "metadata": {},
   "source": [
    "# 4.1.5 布尔索引"
   ]
  },
  {
   "cell_type": "code",
   "execution_count": 9,
   "id": "67ce60f6",
   "metadata": {},
   "outputs": [
    {
     "data": {
      "text/plain": [
       "array(['Bob', 'Joe', 'Will', 'Bob', 'Will', 'Joe', 'Joe'], dtype='<U4')"
      ]
     },
     "execution_count": 9,
     "metadata": {},
     "output_type": "execute_result"
    }
   ],
   "source": [
    "import numpy as np\n",
    "names = np.array(['Bob', 'Joe', 'Will', 'Bob', 'Will', 'Joe', 'Joe'])\n",
    "data = np.random.randn(7, 4)\n",
    "names"
   ]
  },
  {
   "cell_type": "code",
   "execution_count": 12,
   "id": "f166bd1c",
   "metadata": {},
   "outputs": [
    {
     "data": {
      "text/plain": [
       "array([[-0.51791902,  0.77100533,  0.58566445, -1.09122403],\n",
       "       [ 1.13726517,  1.53749536, -1.47656806,  0.94267491],\n",
       "       [ 1.58598119,  1.54414637, -0.57491096,  0.88742462],\n",
       "       [-0.05851208, -0.44659627, -1.87716178,  0.31035535],\n",
       "       [-1.65446564, -0.10172619,  0.33552931, -0.14584808],\n",
       "       [ 0.0758564 ,  0.15596079,  0.19108738, -1.01261018],\n",
       "       [-0.81494929,  2.43268551,  1.02185675,  0.93364709]])"
      ]
     },
     "execution_count": 12,
     "metadata": {},
     "output_type": "execute_result"
    }
   ],
   "source": [
    "data"
   ]
  },
  {
   "cell_type": "code",
   "execution_count": 11,
   "id": "1124d681",
   "metadata": {},
   "outputs": [
    {
     "data": {
      "text/plain": [
       "array([ True, False, False,  True, False, False, False])"
      ]
     },
     "execution_count": 11,
     "metadata": {},
     "output_type": "execute_result"
    }
   ],
   "source": [
    "names == 'Bob'"
   ]
  },
  {
   "cell_type": "code",
   "execution_count": 10,
   "id": "80beb2dd",
   "metadata": {},
   "outputs": [
    {
     "data": {
      "text/plain": [
       "array([[-0.51791902,  0.77100533,  0.58566445, -1.09122403],\n",
       "       [-0.05851208, -0.44659627, -1.87716178,  0.31035535]])"
      ]
     },
     "execution_count": 10,
     "metadata": {},
     "output_type": "execute_result"
    }
   ],
   "source": [
    "data[names == 'Bob']"
   ]
  },
  {
   "cell_type": "code",
   "execution_count": 13,
   "id": "a505d2a0",
   "metadata": {},
   "outputs": [
    {
     "data": {
      "text/plain": [
       "array([[ 0.58566445, -1.09122403],\n",
       "       [-1.87716178,  0.31035535]])"
      ]
     },
     "execution_count": 13,
     "metadata": {},
     "output_type": "execute_result"
    }
   ],
   "source": [
    "data[names == 'Bob', 2:]"
   ]
  },
  {
   "cell_type": "code",
   "execution_count": 16,
   "id": "cff5ff99",
   "metadata": {},
   "outputs": [
    {
     "data": {
      "text/plain": [
       "array([-1.09122403,  0.31035535])"
      ]
     },
     "execution_count": 16,
     "metadata": {},
     "output_type": "execute_result"
    }
   ],
   "source": [
    "data[names == 'Bob', 3]"
   ]
  },
  {
   "cell_type": "code",
   "execution_count": 17,
   "id": "0e55a10d",
   "metadata": {},
   "outputs": [
    {
     "data": {
      "text/plain": [
       "array([[ 1.13726517,  1.53749536, -1.47656806,  0.94267491],\n",
       "       [ 1.58598119,  1.54414637, -0.57491096,  0.88742462],\n",
       "       [-1.65446564, -0.10172619,  0.33552931, -0.14584808],\n",
       "       [ 0.0758564 ,  0.15596079,  0.19108738, -1.01261018],\n",
       "       [-0.81494929,  2.43268551,  1.02185675,  0.93364709]])"
      ]
     },
     "execution_count": 17,
     "metadata": {},
     "output_type": "execute_result"
    }
   ],
   "source": [
    "names != 'Bob'\n",
    "data[~(names == 'Bob')]\n",
    "#用！= 或者在条件表达式前加~取反"
   ]
  },
  {
   "cell_type": "code",
   "execution_count": 18,
   "id": "d600ede2",
   "metadata": {},
   "outputs": [
    {
     "data": {
      "text/plain": [
       "array([ True, False,  True,  True,  True, False, False])"
      ]
     },
     "execution_count": 18,
     "metadata": {},
     "output_type": "execute_result"
    }
   ],
   "source": [
    "mask = (names == 'Bob') | (names == 'Will')\n",
    "mask\n",
    "#布尔值中and和or无效，要用&和|"
   ]
  },
  {
   "cell_type": "code",
   "execution_count": 19,
   "id": "ad96215a",
   "metadata": {},
   "outputs": [
    {
     "data": {
      "text/plain": [
       "array([[-0.51791902,  0.77100533,  0.58566445, -1.09122403],\n",
       "       [ 1.58598119,  1.54414637, -0.57491096,  0.88742462],\n",
       "       [-0.05851208, -0.44659627, -1.87716178,  0.31035535],\n",
       "       [-1.65446564, -0.10172619,  0.33552931, -0.14584808]])"
      ]
     },
     "execution_count": 19,
     "metadata": {},
     "output_type": "execute_result"
    }
   ],
   "source": [
    "data[mask]"
   ]
  },
  {
   "cell_type": "code",
   "execution_count": 20,
   "id": "e332bbe7",
   "metadata": {},
   "outputs": [
    {
     "data": {
      "text/plain": [
       "array([[0.        , 0.77100533, 0.58566445, 0.        ],\n",
       "       [1.13726517, 1.53749536, 0.        , 0.94267491],\n",
       "       [1.58598119, 1.54414637, 0.        , 0.88742462],\n",
       "       [0.        , 0.        , 0.        , 0.31035535],\n",
       "       [0.        , 0.        , 0.33552931, 0.        ],\n",
       "       [0.0758564 , 0.15596079, 0.19108738, 0.        ],\n",
       "       [0.        , 2.43268551, 1.02185675, 0.93364709]])"
      ]
     },
     "execution_count": 20,
     "metadata": {},
     "output_type": "execute_result"
    }
   ],
   "source": [
    "data[data < 0] = 0\n",
    "data"
   ]
  },
  {
   "cell_type": "code",
   "execution_count": 21,
   "id": "41dfe3cd",
   "metadata": {},
   "outputs": [
    {
     "data": {
      "text/plain": [
       "array([[7.        , 7.        , 7.        , 7.        ],\n",
       "       [1.13726517, 1.53749536, 0.        , 0.94267491],\n",
       "       [7.        , 7.        , 7.        , 7.        ],\n",
       "       [7.        , 7.        , 7.        , 7.        ],\n",
       "       [7.        , 7.        , 7.        , 7.        ],\n",
       "       [0.0758564 , 0.15596079, 0.19108738, 0.        ],\n",
       "       [0.        , 2.43268551, 1.02185675, 0.93364709]])"
      ]
     },
     "execution_count": 21,
     "metadata": {},
     "output_type": "execute_result"
    }
   ],
   "source": [
    "data[names != 'Joe'] = 7\n",
    "data"
   ]
  },
  {
   "cell_type": "markdown",
   "id": "0dae0c39",
   "metadata": {},
   "source": [
    "# 4.1.6 神奇索引"
   ]
  },
  {
   "cell_type": "code",
   "execution_count": 22,
   "id": "903974bb",
   "metadata": {},
   "outputs": [
    {
     "data": {
      "text/plain": [
       "array([[0., 0., 0., 0.],\n",
       "       [1., 1., 1., 1.],\n",
       "       [2., 2., 2., 2.],\n",
       "       [3., 3., 3., 3.],\n",
       "       [4., 4., 4., 4.],\n",
       "       [5., 5., 5., 5.],\n",
       "       [6., 6., 6., 6.],\n",
       "       [7., 7., 7., 7.]])"
      ]
     },
     "execution_count": 22,
     "metadata": {},
     "output_type": "execute_result"
    }
   ],
   "source": [
    "arr = np.empty((8, 4))\n",
    "\n",
    "for i in range(8):\n",
    "    arr[i] = i#操作过程只有一维，就是对row进行赋值\n",
    "    \n",
    "arr"
   ]
  },
  {
   "cell_type": "code",
   "execution_count": 23,
   "id": "50fdf9db",
   "metadata": {},
   "outputs": [
    {
     "data": {
      "text/plain": [
       "array([[4., 4., 4., 4.],\n",
       "       [3., 3., 3., 3.],\n",
       "       [0., 0., 0., 0.],\n",
       "       [6., 6., 6., 6.]])"
      ]
     },
     "execution_count": 23,
     "metadata": {},
     "output_type": "execute_result"
    }
   ],
   "source": [
    "arr[[4, 3, 0, 6]]"
   ]
  },
  {
   "cell_type": "code",
   "execution_count": 24,
   "id": "482d5e68",
   "metadata": {},
   "outputs": [
    {
     "data": {
      "text/plain": [
       "array([[5., 5., 5., 5.],\n",
       "       [3., 3., 3., 3.],\n",
       "       [1., 1., 1., 1.]])"
      ]
     },
     "execution_count": 24,
     "metadata": {},
     "output_type": "execute_result"
    }
   ],
   "source": [
    "arr[[-3, -5, -7]]\n",
    "#在arr中挑"
   ]
  },
  {
   "cell_type": "code",
   "execution_count": 26,
   "id": "fb5ee12d",
   "metadata": {},
   "outputs": [
    {
     "data": {
      "text/plain": [
       "array([[ 0,  1,  2,  3],\n",
       "       [ 4,  5,  6,  7],\n",
       "       [ 8,  9, 10, 11],\n",
       "       [12, 13, 14, 15],\n",
       "       [16, 17, 18, 19],\n",
       "       [20, 21, 22, 23],\n",
       "       [24, 25, 26, 27],\n",
       "       [28, 29, 30, 31]])"
      ]
     },
     "execution_count": 26,
     "metadata": {},
     "output_type": "execute_result"
    }
   ],
   "source": [
    "arr = np.arange(32).reshape((8, 4))\n",
    "arr"
   ]
  },
  {
   "cell_type": "code",
   "execution_count": 27,
   "id": "aded9f19",
   "metadata": {},
   "outputs": [
    {
     "data": {
      "text/plain": [
       "array([ 4, 23, 29, 10])"
      ]
     },
     "execution_count": 27,
     "metadata": {},
     "output_type": "execute_result"
    }
   ],
   "source": [
    "arr[[1, 5, 7, 2], [0, 3, 1, 2]]\n",
    "#抓[1,0] [5,3] [7,1] [2,2]"
   ]
  },
  {
   "cell_type": "code",
   "execution_count": 28,
   "id": "fcf1b313",
   "metadata": {},
   "outputs": [
    {
     "data": {
      "text/plain": [
       "array([[ 4,  7,  5,  6],\n",
       "       [20, 23, 21, 22],\n",
       "       [28, 31, 29, 30],\n",
       "       [ 8, 11,  9, 10]])"
      ]
     },
     "execution_count": 28,
     "metadata": {},
     "output_type": "execute_result"
    }
   ],
   "source": [
    "arr[[1, 5, 7, 2]][:, [0, 3, 1, 2]]\n",
    "#每行按0312排列"
   ]
  },
  {
   "cell_type": "markdown",
   "id": "9c56b3c3",
   "metadata": {},
   "source": [
    "# 4.1.7 数组转置和换轴"
   ]
  },
  {
   "cell_type": "code",
   "execution_count": 29,
   "id": "b9bdc56d",
   "metadata": {},
   "outputs": [
    {
     "data": {
      "text/plain": [
       "array([[ 0,  1,  2,  3,  4],\n",
       "       [ 5,  6,  7,  8,  9],\n",
       "       [10, 11, 12, 13, 14]])"
      ]
     },
     "execution_count": 29,
     "metadata": {},
     "output_type": "execute_result"
    }
   ],
   "source": [
    "arr = np.arange(15).reshape((3,5))\n",
    "arr"
   ]
  },
  {
   "cell_type": "code",
   "execution_count": 30,
   "id": "250c0fda",
   "metadata": {
    "scrolled": true
   },
   "outputs": [
    {
     "data": {
      "text/plain": [
       "array([[ 0,  5, 10],\n",
       "       [ 1,  6, 11],\n",
       "       [ 2,  7, 12],\n",
       "       [ 3,  8, 13],\n",
       "       [ 4,  9, 14]])"
      ]
     },
     "execution_count": 30,
     "metadata": {},
     "output_type": "execute_result"
    }
   ],
   "source": [
    "arr.T\n",
    "#矩阵转置"
   ]
  },
  {
   "cell_type": "code",
   "execution_count": 32,
   "id": "1ff1ea90",
   "metadata": {},
   "outputs": [
    {
     "data": {
      "text/plain": [
       "array([[-0.32052558, -0.87508021,  1.09085533],\n",
       "       [-0.65720145,  1.24177414, -0.11207076],\n",
       "       [-1.09405319, -0.79805557, -0.83896223],\n",
       "       [ 0.23817472, -0.00544651, -1.13028508],\n",
       "       [-0.89657451,  0.29396009,  1.10499022],\n",
       "       [ 1.44004599, -0.34968573,  0.48107188]])"
      ]
     },
     "execution_count": 32,
     "metadata": {},
     "output_type": "execute_result"
    }
   ],
   "source": [
    "arr = np.random.randn(6, 3)\n",
    "arr"
   ]
  },
  {
   "cell_type": "code",
   "execution_count": 33,
   "id": "b801d33e",
   "metadata": {},
   "outputs": [
    {
     "data": {
      "text/plain": [
       "array([[ 4.66590828, -0.43091281,  0.07472958],\n",
       "       [-0.43091281,  3.15338339, -0.26145884],\n",
       "       [ 0.07472958, -0.26145884,  4.63636072]])"
      ]
     },
     "execution_count": 33,
     "metadata": {},
     "output_type": "execute_result"
    }
   ],
   "source": [
    "np.dot(arr.T, arr)\n",
    "#矩阵相乘 .dot"
   ]
  },
  {
   "cell_type": "code",
   "execution_count": 34,
   "id": "75c3e23d",
   "metadata": {},
   "outputs": [
    {
     "data": {
      "text/plain": [
       "array([[[ 0,  1,  2,  3],\n",
       "        [ 4,  5,  6,  7]],\n",
       "\n",
       "       [[ 8,  9, 10, 11],\n",
       "        [12, 13, 14, 15]]])"
      ]
     },
     "execution_count": 34,
     "metadata": {},
     "output_type": "execute_result"
    }
   ],
   "source": [
    "arr = np.arange(16).reshape((2, 2, 4))# 2个2*4的矩阵\n",
    "arr"
   ]
  },
  {
   "cell_type": "code",
   "execution_count": 36,
   "id": "bfef543e",
   "metadata": {},
   "outputs": [
    {
     "data": {
      "text/plain": [
       "array([[[ 0,  1,  2,  3],\n",
       "        [ 8,  9, 10, 11]],\n",
       "\n",
       "       [[ 4,  5,  6,  7],\n",
       "        [12, 13, 14, 15]]])"
      ]
     },
     "execution_count": 36,
     "metadata": {},
     "output_type": "execute_result"
    }
   ],
   "source": [
    "arr.transpose((1, 0, 2))\n",
    "#前连个轴置换，最后一个不变 第1个的第0行与第0个的第一行交换"
   ]
  },
  {
   "cell_type": "code",
   "execution_count": 37,
   "id": "b1ce8750",
   "metadata": {},
   "outputs": [
    {
     "data": {
      "text/plain": [
       "array([[[ 0,  8],\n",
       "        [ 4, 12]],\n",
       "\n",
       "       [[ 1,  9],\n",
       "        [ 5, 13]],\n",
       "\n",
       "       [[ 2, 10],\n",
       "        [ 6, 14]],\n",
       "\n",
       "       [[ 3, 11],\n",
       "        [ 7, 15]]])"
      ]
     },
     "execution_count": 37,
     "metadata": {},
     "output_type": "execute_result"
    }
   ],
   "source": [
    "arr.T \n",
    "#(2, 2, 4)-->(4, 2, 2)"
   ]
  },
  {
   "cell_type": "code",
   "execution_count": 38,
   "id": "c125c4d6",
   "metadata": {},
   "outputs": [
    {
     "data": {
      "text/plain": [
       "array([[[ 0,  4],\n",
       "        [ 1,  5],\n",
       "        [ 2,  6],\n",
       "        [ 3,  7]],\n",
       "\n",
       "       [[ 8, 12],\n",
       "        [ 9, 13],\n",
       "        [10, 14],\n",
       "        [11, 15]]])"
      ]
     },
     "execution_count": 38,
     "metadata": {},
     "output_type": "execute_result"
    }
   ],
   "source": [
    "arr.swapaxes(1, 2)\n",
    "# (2, 2, 4)-->(2, 4, 2)"
   ]
  },
  {
   "cell_type": "markdown",
   "id": "fc72b317",
   "metadata": {},
   "source": [
    "# 4.2 通用函数 ufunc"
   ]
  },
  {
   "cell_type": "code",
   "execution_count": 39,
   "id": "5f95fd16",
   "metadata": {},
   "outputs": [
    {
     "data": {
      "text/plain": [
       "array([0, 1, 2, 3, 4, 5, 6, 7, 8, 9])"
      ]
     },
     "execution_count": 39,
     "metadata": {},
     "output_type": "execute_result"
    }
   ],
   "source": [
    "arr = np.arange(10)\n",
    "arr"
   ]
  },
  {
   "cell_type": "code",
   "execution_count": 40,
   "id": "ce964512",
   "metadata": {},
   "outputs": [
    {
     "data": {
      "text/plain": [
       "array([0.        , 1.        , 1.41421356, 1.73205081, 2.        ,\n",
       "       2.23606798, 2.44948974, 2.64575131, 2.82842712, 3.        ])"
      ]
     },
     "execution_count": 40,
     "metadata": {},
     "output_type": "execute_result"
    }
   ],
   "source": [
    "np.sqrt(arr)\n",
    "#.sqrt 开根"
   ]
  },
  {
   "cell_type": "code",
   "execution_count": 41,
   "id": "e960a231",
   "metadata": {},
   "outputs": [
    {
     "data": {
      "text/plain": [
       "array([1.00000000e+00, 2.71828183e+00, 7.38905610e+00, 2.00855369e+01,\n",
       "       5.45981500e+01, 1.48413159e+02, 4.03428793e+02, 1.09663316e+03,\n",
       "       2.98095799e+03, 8.10308393e+03])"
      ]
     },
     "execution_count": 41,
     "metadata": {},
     "output_type": "execute_result"
    }
   ],
   "source": [
    "np.exp(arr)\n",
    "#.exp 取e=2.71为底的指数函数"
   ]
  },
  {
   "cell_type": "code",
   "execution_count": 42,
   "id": "69302cc0",
   "metadata": {},
   "outputs": [
    {
     "data": {
      "text/plain": [
       "array([ 0.75284122, -1.10092758,  0.19225706,  0.28953075, -0.63688116,\n",
       "        1.20987686,  0.03398769, -0.34480485])"
      ]
     },
     "execution_count": 42,
     "metadata": {},
     "output_type": "execute_result"
    }
   ],
   "source": [
    "x = np.random.randn(8)\n",
    "y = np.random.randn(8)\n",
    "x"
   ]
  },
  {
   "cell_type": "code",
   "execution_count": 43,
   "id": "b6ed50a5",
   "metadata": {},
   "outputs": [
    {
     "data": {
      "text/plain": [
       "array([ 0.64819674, -0.61563211, -0.28574147, -0.3671137 ,  1.24542253,\n",
       "       -1.89995525,  1.66650743,  1.80382164])"
      ]
     },
     "execution_count": 43,
     "metadata": {},
     "output_type": "execute_result"
    }
   ],
   "source": [
    "y"
   ]
  },
  {
   "cell_type": "code",
   "execution_count": 44,
   "id": "00ce84cb",
   "metadata": {},
   "outputs": [
    {
     "data": {
      "text/plain": [
       "array([ 0.75284122, -0.61563211,  0.19225706,  0.28953075,  1.24542253,\n",
       "        1.20987686,  1.66650743,  1.80382164])"
      ]
     },
     "execution_count": 44,
     "metadata": {},
     "output_type": "execute_result"
    }
   ],
   "source": [
    "np.maximum(x, y)\n",
    "#.maximum 取最大值"
   ]
  },
  {
   "cell_type": "code",
   "execution_count": 54,
   "id": "1308b7e4",
   "metadata": {},
   "outputs": [
    {
     "data": {
      "text/plain": [
       "array([-9.8108259 , -1.62693325, -2.95051584, -3.58212201,  1.62511463,\n",
       "       -2.28407173,  0.19966033])"
      ]
     },
     "execution_count": 54,
     "metadata": {},
     "output_type": "execute_result"
    }
   ],
   "source": [
    "arr = np.random.randn(7) * 5\n",
    "arr"
   ]
  },
  {
   "cell_type": "code",
   "execution_count": 55,
   "id": "ed90a549",
   "metadata": {},
   "outputs": [
    {
     "data": {
      "text/plain": [
       "array([-0.8108259 , -0.62693325, -0.95051584, -0.58212201,  0.62511463,\n",
       "       -0.28407173,  0.19966033])"
      ]
     },
     "execution_count": 55,
     "metadata": {},
     "output_type": "execute_result"
    }
   ],
   "source": [
    "remainder , whole_part = np.modf(arr)\n",
    "remainder\n",
    "#.modf 返回浮点数数组的小数部分和整数部分"
   ]
  },
  {
   "cell_type": "code",
   "execution_count": 56,
   "id": "9111b25e",
   "metadata": {},
   "outputs": [
    {
     "data": {
      "text/plain": [
       "array([-9., -1., -2., -3.,  1., -2.,  0.])"
      ]
     },
     "execution_count": 56,
     "metadata": {},
     "output_type": "execute_result"
    }
   ],
   "source": [
    "whole_part"
   ]
  },
  {
   "cell_type": "code",
   "execution_count": 57,
   "id": "831494e1",
   "metadata": {},
   "outputs": [
    {
     "name": "stderr",
     "output_type": "stream",
     "text": [
      "<ipython-input-57-b58949107b3d>:1: RuntimeWarning: invalid value encountered in sqrt\n",
      "  np.sqrt(arr)\n"
     ]
    },
    {
     "data": {
      "text/plain": [
       "array([       nan,        nan,        nan,        nan, 1.27479984,\n",
       "              nan, 0.44683367])"
      ]
     },
     "execution_count": 57,
     "metadata": {},
     "output_type": "execute_result"
    }
   ],
   "source": [
    "np.sqrt(arr)"
   ]
  },
  {
   "cell_type": "code",
   "execution_count": 58,
   "id": "1dc9b8aa",
   "metadata": {},
   "outputs": [
    {
     "data": {
      "text/plain": [
       "array([-9.8108259 , -1.62693325, -2.95051584, -3.58212201,  1.62511463,\n",
       "       -2.28407173,  0.19966033])"
      ]
     },
     "execution_count": 58,
     "metadata": {},
     "output_type": "execute_result"
    }
   ],
   "source": [
    "arr"
   ]
  },
  {
   "cell_type": "code",
   "execution_count": 59,
   "id": "ff3b2988",
   "metadata": {},
   "outputs": [
    {
     "name": "stderr",
     "output_type": "stream",
     "text": [
      "<ipython-input-59-164954cb2c14>:1: RuntimeWarning: invalid value encountered in sqrt\n",
      "  np.sqrt(arr, arr)\n"
     ]
    },
    {
     "data": {
      "text/plain": [
       "array([       nan,        nan,        nan,        nan, 1.27479984,\n",
       "              nan, 0.44683367])"
      ]
     },
     "execution_count": 59,
     "metadata": {},
     "output_type": "execute_result"
    }
   ],
   "source": [
    "np.sqrt(arr, arr)\n",
    "#将结果写入arr内"
   ]
  },
  {
   "cell_type": "code",
   "execution_count": 60,
   "id": "5f7f6b70",
   "metadata": {},
   "outputs": [
    {
     "data": {
      "text/plain": [
       "array([       nan,        nan,        nan,        nan, 1.27479984,\n",
       "              nan, 0.44683367])"
      ]
     },
     "execution_count": 60,
     "metadata": {},
     "output_type": "execute_result"
    }
   ],
   "source": [
    "arr"
   ]
  },
  {
   "cell_type": "markdown",
   "id": "003856ae",
   "metadata": {},
   "source": [
    "# 4.3 使用数组进行面向数组编程"
   ]
  },
  {
   "cell_type": "code",
   "execution_count": 61,
   "id": "73695fde",
   "metadata": {},
   "outputs": [
    {
     "data": {
      "text/plain": [
       "array([[-5.  , -4.99, -4.98, ...,  4.97,  4.98,  4.99],\n",
       "       [-5.  , -4.99, -4.98, ...,  4.97,  4.98,  4.99],\n",
       "       [-5.  , -4.99, -4.98, ...,  4.97,  4.98,  4.99],\n",
       "       ...,\n",
       "       [-5.  , -4.99, -4.98, ...,  4.97,  4.98,  4.99],\n",
       "       [-5.  , -4.99, -4.98, ...,  4.97,  4.98,  4.99],\n",
       "       [-5.  , -4.99, -4.98, ...,  4.97,  4.98,  4.99]])"
      ]
     },
     "execution_count": 61,
     "metadata": {},
     "output_type": "execute_result"
    }
   ],
   "source": [
    "points = np.arange(-5, 5, 0.01)\n",
    "xs, ys = np.meshgrid(points, points)\n",
    "xs\n",
    "#.meshgrid 不用写循环"
   ]
  },
  {
   "cell_type": "code",
   "execution_count": 62,
   "id": "792e02ed",
   "metadata": {},
   "outputs": [
    {
     "data": {
      "text/plain": [
       "array([[-5.  , -5.  , -5.  , ..., -5.  , -5.  , -5.  ],\n",
       "       [-4.99, -4.99, -4.99, ..., -4.99, -4.99, -4.99],\n",
       "       [-4.98, -4.98, -4.98, ..., -4.98, -4.98, -4.98],\n",
       "       ...,\n",
       "       [ 4.97,  4.97,  4.97, ...,  4.97,  4.97,  4.97],\n",
       "       [ 4.98,  4.98,  4.98, ...,  4.98,  4.98,  4.98],\n",
       "       [ 4.99,  4.99,  4.99, ...,  4.99,  4.99,  4.99]])"
      ]
     },
     "execution_count": 62,
     "metadata": {},
     "output_type": "execute_result"
    }
   ],
   "source": [
    "ys"
   ]
  },
  {
   "cell_type": "code",
   "execution_count": 63,
   "id": "2fcd69e0",
   "metadata": {},
   "outputs": [
    {
     "data": {
      "text/plain": [
       "array([[7.07106781, 7.06400028, 7.05693985, ..., 7.04988652, 7.05693985,\n",
       "        7.06400028],\n",
       "       [7.06400028, 7.05692568, 7.04985815, ..., 7.04279774, 7.04985815,\n",
       "        7.05692568],\n",
       "       [7.05693985, 7.04985815, 7.04278354, ..., 7.03571603, 7.04278354,\n",
       "        7.04985815],\n",
       "       ...,\n",
       "       [7.04988652, 7.04279774, 7.03571603, ..., 7.0286414 , 7.03571603,\n",
       "        7.04279774],\n",
       "       [7.05693985, 7.04985815, 7.04278354, ..., 7.03571603, 7.04278354,\n",
       "        7.04985815],\n",
       "       [7.06400028, 7.05692568, 7.04985815, ..., 7.04279774, 7.04985815,\n",
       "        7.05692568]])"
      ]
     },
     "execution_count": 63,
     "metadata": {},
     "output_type": "execute_result"
    }
   ],
   "source": [
    "z = np.sqrt(xs ** 2 + ys ** 2)\n",
    "z"
   ]
  },
  {
   "cell_type": "code",
   "execution_count": 65,
   "id": "bc69e822",
   "metadata": {},
   "outputs": [
    {
     "data": {
      "image/png": "[encoded data removed]",
      "text/plain": [
       "<Figure size 432x288 with 2 Axes>"
      ]
     },
     "metadata": {
      "needs_background": "light"
     },
     "output_type": "display_data"
    }
   ],
   "source": [
    "import matplotlib.pyplot as plt# matplotlib可视化，第九章会细嗦\n",
    "\n",
    "plt.imshow(z, cmap=plt.cm.gray)\n",
    "plt.colorbar()\n",
    "plt.title(\"Image plot of $\\sqrt{x^2 + y^2}$ for a grid of values\")\n",
    "# \\做一些特殊运算 运算放在$ $中\n",
    "plt.show()\n",
    "#不知道要不要加"
   ]
  },
  {
   "cell_type": "markdown",
   "id": "88848210",
   "metadata": {},
   "source": [
    "[Writing mathermatical expressions](https://matplotlib.org/users/mathtext.html)"
   ]
  },
  {
   "cell_type": "markdown",
   "id": "d734514d",
   "metadata": {},
   "source": [
    "# 4.3.1 将条件逻辑作为数组操作"
   ]
  },
  {
   "cell_type": "code",
   "execution_count": 2,
   "id": "e39b3a0a",
   "metadata": {},
   "outputs": [],
   "source": [
    "import numpy as np\n",
    "xarr = np.array([1.1, 1.2, 1.3, 1.4, 1.5])\n",
    "yarr = np.array([2.1, 2.2, 2.3, 2.4, 2.5])\n",
    "cond = np.array([True, False, True, True, False])"
   ]
  },
  {
   "cell_type": "code",
   "execution_count": 3,
   "id": "cd25dff4",
   "metadata": {},
   "outputs": [
    {
     "data": {
      "text/plain": [
       "[1.1, 2.2, 1.3, 1.4, 2.5]"
      ]
     },
     "execution_count": 3,
     "metadata": {},
     "output_type": "execute_result"
    }
   ],
   "source": [
    "result = [(x if c else y)\n",
    "          for x, y, c in zip(xarr, yarr, cond)]\n",
    "result\n",
    "#如果c那么执行x否则执行y"
   ]
  },
  {
   "cell_type": "code",
   "execution_count": 4,
   "id": "fa03953e",
   "metadata": {},
   "outputs": [
    {
     "data": {
      "text/plain": [
       "array([1.1, 2.2, 1.3, 1.4, 2.5])"
      ]
     },
     "execution_count": 4,
     "metadata": {},
     "output_type": "execute_result"
    }
   ],
   "source": [
    "result = np.where(cond, xarr, yarr)\n",
    "result"
   ]
  },
  {
   "cell_type": "code",
   "execution_count": 5,
   "id": "57f4d574",
   "metadata": {},
   "outputs": [
    {
     "data": {
      "text/plain": [
       "array([[ 2, -2, -2, -2],\n",
       "       [ 2, -2, -2, -2],\n",
       "       [-2,  2,  2,  2],\n",
       "       [-2, -2, -2, -2]])"
      ]
     },
     "execution_count": 5,
     "metadata": {},
     "output_type": "execute_result"
    }
   ],
   "source": [
    "arr = np.random.randn(4, 4)\n",
    "arr\n",
    "arr > 0\n",
    "np.where(arr > 0, 2, -2)\n",
    "#np.where True-->x False-->y"
   ]
  },
  {
   "cell_type": "code",
   "execution_count": 6,
   "id": "6b9b286c",
   "metadata": {},
   "outputs": [
    {
     "data": {
      "text/plain": [
       "array([[ 2.        , -1.90586239, -0.39056467, -0.65198701],\n",
       "       [ 2.        , -0.20599829, -0.25251417, -0.4257103 ],\n",
       "       [-0.90338645,  2.        ,  2.        ,  2.        ],\n",
       "       [-0.37915296, -0.31703471, -1.34212158, -0.35945472]])"
      ]
     },
     "execution_count": 6,
     "metadata": {},
     "output_type": "execute_result"
    }
   ],
   "source": [
    "np.where(arr > 0, 2, arr)"
   ]
  },
  {
   "cell_type": "markdown",
   "id": "e3dc71fe",
   "metadata": {},
   "source": [
    "# 4.3.2 数学和统计方法"
   ]
  },
  {
   "cell_type": "code",
   "execution_count": 8,
   "id": "33c3ad85",
   "metadata": {},
   "outputs": [
    {
     "data": {
      "text/plain": [
       "array([[ 0.56852499,  1.06190968,  1.96748458, -0.97337495],\n",
       "       [-0.65497248,  0.07788009, -0.44179296, -0.7954086 ],\n",
       "       [-0.9769054 ,  0.23980548, -1.4728717 , -0.00429759],\n",
       "       [-0.11968264,  0.21632123, -1.26022536,  0.31563797],\n",
       "       [ 0.84198064,  0.100283  , -0.48442122, -1.28428311]])"
      ]
     },
     "execution_count": 8,
     "metadata": {},
     "output_type": "execute_result"
    }
   ],
   "source": [
    "arr = np.random.randn(5, 4)\n",
    "arr"
   ]
  },
  {
   "cell_type": "code",
   "execution_count": 9,
   "id": "4a160aab",
   "metadata": {},
   "outputs": [
    {
     "data": {
      "text/plain": [
       "-0.15392041740232057"
      ]
     },
     "execution_count": 9,
     "metadata": {},
     "output_type": "execute_result"
    }
   ],
   "source": [
    "arr.mean()\n",
    "#平均数"
   ]
  },
  {
   "cell_type": "code",
   "execution_count": 10,
   "id": "931a6687",
   "metadata": {},
   "outputs": [
    {
     "data": {
      "text/plain": [
       "-0.15392041740232057"
      ]
     },
     "execution_count": 10,
     "metadata": {},
     "output_type": "execute_result"
    }
   ],
   "source": [
    "np.mean(arr)"
   ]
  },
  {
   "cell_type": "code",
   "execution_count": 11,
   "id": "c7aa567b",
   "metadata": {},
   "outputs": [
    {
     "data": {
      "text/plain": [
       "-3.0784083480464113"
      ]
     },
     "execution_count": 11,
     "metadata": {},
     "output_type": "execute_result"
    }
   ],
   "source": [
    "arr.sum()"
   ]
  },
  {
   "cell_type": "code",
   "execution_count": 12,
   "id": "9b4129d5",
   "metadata": {},
   "outputs": [
    {
     "data": {
      "text/plain": [
       "array([ 0.65613608, -0.45357349, -0.5535673 , -0.2119872 , -0.20661017])"
      ]
     },
     "execution_count": 12,
     "metadata": {},
     "output_type": "execute_result"
    }
   ],
   "source": [
    "arr.mean(axis=1)\n",
    "#定y 横着求平均"
   ]
  },
  {
   "cell_type": "code",
   "execution_count": 13,
   "id": "2895243b",
   "metadata": {},
   "outputs": [
    {
     "data": {
      "text/plain": [
       "array([-0.3410549 ,  1.69619949, -1.69182667, -2.74172628])"
      ]
     },
     "execution_count": 13,
     "metadata": {},
     "output_type": "execute_result"
    }
   ],
   "source": [
    "arr.sum(axis=0)\n",
    "#定x 竖着求和"
   ]
  },
  {
   "cell_type": "code",
   "execution_count": 14,
   "id": "1c4dff77",
   "metadata": {},
   "outputs": [
    {
     "data": {
      "text/plain": [
       "array([ 0,  1,  3,  6, 10, 15, 21, 28], dtype=int32)"
      ]
     },
     "execution_count": 14,
     "metadata": {},
     "output_type": "execute_result"
    }
   ],
   "source": [
    "arr = np.array([0, 1, 2, 3, 4, 5, 6, 7])\n",
    "arr.cumsum()\n",
    "#累加"
   ]
  },
  {
   "cell_type": "code",
   "execution_count": 16,
   "id": "0cb8eb8c",
   "metadata": {},
   "outputs": [
    {
     "data": {
      "text/plain": [
       "array([[0, 1, 2],\n",
       "       [3, 4, 5],\n",
       "       [6, 7, 8]])"
      ]
     },
     "execution_count": 16,
     "metadata": {},
     "output_type": "execute_result"
    }
   ],
   "source": [
    "arr = np.array([[0, 1, 2], [3, 4, 5], [6, 7, 8]])\n",
    "arr"
   ]
  },
  {
   "cell_type": "code",
   "execution_count": 17,
   "id": "198cb0d9",
   "metadata": {},
   "outputs": [
    {
     "data": {
      "text/plain": [
       "array([[ 0,  1,  2],\n",
       "       [ 3,  5,  7],\n",
       "       [ 9, 12, 15]], dtype=int32)"
      ]
     },
     "execution_count": 17,
     "metadata": {},
     "output_type": "execute_result"
    }
   ],
   "source": [
    "arr.cumsum(axis=0)"
   ]
  },
  {
   "cell_type": "code",
   "execution_count": 18,
   "id": "6a7d7316",
   "metadata": {},
   "outputs": [
    {
     "data": {
      "text/plain": [
       "array([[  0,   0,   0],\n",
       "       [  3,  12,  60],\n",
       "       [  6,  42, 336]], dtype=int32)"
      ]
     },
     "execution_count": 18,
     "metadata": {},
     "output_type": "execute_result"
    }
   ],
   "source": [
    "arr.cumprod(axis=1)\n",
    "#.cumprod 累乘"
   ]
  },
  {
   "cell_type": "markdown",
   "id": "227ff1c8",
   "metadata": {},
   "source": [
    "# 4.3.3 布尔值数组的方法"
   ]
  },
  {
   "cell_type": "code",
   "execution_count": 20,
   "id": "2bb69c2f",
   "metadata": {},
   "outputs": [
    {
     "data": {
      "text/plain": [
       "62"
      ]
     },
     "execution_count": 20,
     "metadata": {},
     "output_type": "execute_result"
    }
   ],
   "source": [
    "arr = np.random.randn(100)\n",
    "(arr > 0).sum()"
   ]
  },
  {
   "cell_type": "code",
   "execution_count": 21,
   "id": "6594a65c",
   "metadata": {},
   "outputs": [
    {
     "data": {
      "text/plain": [
       "True"
      ]
     },
     "execution_count": 21,
     "metadata": {},
     "output_type": "execute_result"
    }
   ],
   "source": [
    "bools = np.array([False, False, True, False])\n",
    "bools.any()\n",
    "#是否有一个True"
   ]
  },
  {
   "cell_type": "code",
   "execution_count": 22,
   "id": "b1c0ae81",
   "metadata": {},
   "outputs": [
    {
     "data": {
      "text/plain": [
       "False"
      ]
     },
     "execution_count": 22,
     "metadata": {},
     "output_type": "execute_result"
    }
   ],
   "source": [
    "bools.all()\n",
    "#是否全是True\n",
    "#布尔数组非0元素按True处理"
   ]
  },
  {
   "cell_type": "markdown",
   "id": "ab617692",
   "metadata": {},
   "source": [
    "# 4.3.4 排序"
   ]
  },
  {
   "cell_type": "code",
   "execution_count": 23,
   "id": "bd4a4883",
   "metadata": {},
   "outputs": [
    {
     "data": {
      "text/plain": [
       "array([-0.12576672, -0.98237635,  1.17663898, -0.10926199, -0.03810058,\n",
       "       -0.43048836])"
      ]
     },
     "execution_count": 23,
     "metadata": {},
     "output_type": "execute_result"
    }
   ],
   "source": [
    "arr = np.random.randn(6)\n",
    "arr"
   ]
  },
  {
   "cell_type": "code",
   "execution_count": 24,
   "id": "1f87b89f",
   "metadata": {},
   "outputs": [],
   "source": [
    "arr.sort()\n",
    "#从小到大排序"
   ]
  },
  {
   "cell_type": "code",
   "execution_count": 25,
   "id": "c4796589",
   "metadata": {},
   "outputs": [
    {
     "data": {
      "text/plain": [
       "array([-0.98237635, -0.43048836, -0.12576672, -0.10926199, -0.03810058,\n",
       "        1.17663898])"
      ]
     },
     "execution_count": 25,
     "metadata": {},
     "output_type": "execute_result"
    }
   ],
   "source": [
    "arr"
   ]
  },
  {
   "cell_type": "code",
   "execution_count": 26,
   "id": "14d537c9",
   "metadata": {},
   "outputs": [
    {
     "data": {
      "text/plain": [
       "array([[ 1.11857299, -0.62125058, -0.40957633],\n",
       "       [ 0.96777375,  0.6271789 , -0.91257175],\n",
       "       [-0.22906793,  0.19177862, -0.42671222],\n",
       "       [ 1.03198913, -0.80861442,  0.75630333],\n",
       "       [-0.7941829 ,  0.22514604,  1.65246114]])"
      ]
     },
     "execution_count": 26,
     "metadata": {},
     "output_type": "execute_result"
    }
   ],
   "source": [
    "arr = np.random.randn(5, 3)\n",
    "arr"
   ]
  },
  {
   "cell_type": "code",
   "execution_count": 27,
   "id": "2ac03422",
   "metadata": {},
   "outputs": [],
   "source": [
    "arr.sort(1)#确定axis值"
   ]
  },
  {
   "cell_type": "code",
   "execution_count": 28,
   "id": "4aabb824",
   "metadata": {},
   "outputs": [
    {
     "data": {
      "text/plain": [
       "array([[-0.62125058, -0.40957633,  1.11857299],\n",
       "       [-0.91257175,  0.6271789 ,  0.96777375],\n",
       "       [-0.42671222, -0.22906793,  0.19177862],\n",
       "       [-0.80861442,  0.75630333,  1.03198913],\n",
       "       [-0.7941829 ,  0.22514604,  1.65246114]])"
      ]
     },
     "execution_count": 28,
     "metadata": {},
     "output_type": "execute_result"
    }
   ],
   "source": [
    "arr"
   ]
  },
  {
   "cell_type": "code",
   "execution_count": 29,
   "id": "32cbcb4a",
   "metadata": {},
   "outputs": [
    {
     "data": {
      "text/plain": [
       "-1.6660324490323104"
      ]
     },
     "execution_count": 29,
     "metadata": {},
     "output_type": "execute_result"
    }
   ],
   "source": [
    "large_arr = np.random.randn(1000)\n",
    "large_arr.sort()\n",
    "large_arr[int(0.05 * len(large_arr))] # 5% quantile"
   ]
  },
  {
   "cell_type": "markdown",
   "id": "14162ef6",
   "metadata": {},
   "source": [
    "# 4.3.5 唯一值与其他集合逻辑"
   ]
  },
  {
   "cell_type": "code",
   "execution_count": 31,
   "id": "e25019a4",
   "metadata": {},
   "outputs": [
    {
     "data": {
      "text/plain": [
       "array(['Bob', 'Joe', 'Will'], dtype='<U4')"
      ]
     },
     "execution_count": 31,
     "metadata": {},
     "output_type": "execute_result"
    }
   ],
   "source": [
    "names = np.array(['Bob', 'Joe', 'Will', 'Bob', 'Will', 'Joe', 'Joe'])\n",
    "np.unique(names)\n",
    "#sorted(set(names)) python中酱紫写\n",
    "#唯一值再排序"
   ]
  },
  {
   "cell_type": "code",
   "execution_count": 32,
   "id": "44a40bae",
   "metadata": {},
   "outputs": [
    {
     "data": {
      "text/plain": [
       "array([1, 2, 3, 4])"
      ]
     },
     "execution_count": 32,
     "metadata": {},
     "output_type": "execute_result"
    }
   ],
   "source": [
    "ints = np.array([3, 3, 3, 2, 2, 1, 1, 4, 4])\n",
    "np.unique(ints)"
   ]
  },
  {
   "cell_type": "code",
   "execution_count": 33,
   "id": "637dc70d",
   "metadata": {},
   "outputs": [
    {
     "data": {
      "text/plain": [
       "array([ True, False, False,  True,  True, False,  True])"
      ]
     },
     "execution_count": 33,
     "metadata": {},
     "output_type": "execute_result"
    }
   ],
   "source": [
    "values = np.array([6, 0, 0, 3, 2, 5, 6])\n",
    "np.in1d(values, [2, 3, 6])\n",
    "#.in1d检查一个数组中的值是否在另一个数组中"
   ]
  },
  {
   "cell_type": "markdown",
   "id": "f4da8740",
   "metadata": {},
   "source": [
    "# 4.4 使用数组进行文件输入和输出"
   ]
  },
  {
   "cell_type": "code",
   "execution_count": 34,
   "id": "e1a49b72",
   "metadata": {},
   "outputs": [],
   "source": [
    "arr = np.arange(10)\n",
    "#np.save('some_array', arr) 将arr内容存入,后缀自动补为.npy"
   ]
  },
  {
   "cell_type": "code",
   "execution_count": 35,
   "id": "60a9ba51",
   "metadata": {},
   "outputs": [],
   "source": [
    "#np.load('some_array.npy')\n",
    "#out[]:array([0, 1, 2, 3, 4, 5, 6, 7, 8, 9])"
   ]
  },
  {
   "cell_type": "code",
   "execution_count": 36,
   "id": "977bc8cc",
   "metadata": {},
   "outputs": [],
   "source": [
    "#np.savez('array_archive.npz', a=arr, b=arr)\n",
    "#arch = np.load('array_archive.npz')\n",
    "#arch['b']\n",
    "#有点看不懂，摆烂了，因为更多的输入输出操作可以用pandas做"
   ]
  },
  {
   "cell_type": "code",
   "execution_count": 37,
   "id": "e80b465a",
   "metadata": {},
   "outputs": [],
   "source": [
    "#np.savez_compressed('arrays_compressed.npz', a=arr, b=arr)\n",
    "#存入压缩文件"
   ]
  },
  {
   "cell_type": "markdown",
   "id": "29c2bef6",
   "metadata": {},
   "source": [
    "# 4.5 线性代数(作业可以偷懒了捏^_^)"
   ]
  },
  {
   "cell_type": "code",
   "execution_count": 38,
   "id": "9f2887d4",
   "metadata": {},
   "outputs": [
    {
     "data": {
      "text/plain": [
       "array([[1., 2., 3.],\n",
       "       [4., 5., 6.]])"
      ]
     },
     "execution_count": 38,
     "metadata": {},
     "output_type": "execute_result"
    }
   ],
   "source": [
    "x = np.array([[1., 2., 3.],[4., 5., 6.]])\n",
    "y = np.array([[6., 23.], [-1, 7], [8, 9]])\n",
    "x"
   ]
  },
  {
   "cell_type": "code",
   "execution_count": 39,
   "id": "eb0c7dbc",
   "metadata": {},
   "outputs": [
    {
     "data": {
      "text/plain": [
       "array([[ 6., 23.],\n",
       "       [-1.,  7.],\n",
       "       [ 8.,  9.]])"
      ]
     },
     "execution_count": 39,
     "metadata": {},
     "output_type": "execute_result"
    }
   ],
   "source": [
    "y"
   ]
  },
  {
   "cell_type": "code",
   "execution_count": 40,
   "id": "64b6c0db",
   "metadata": {},
   "outputs": [
    {
     "data": {
      "text/plain": [
       "array([[ 28.,  64.],\n",
       "       [ 67., 181.]])"
      ]
     },
     "execution_count": 40,
     "metadata": {},
     "output_type": "execute_result"
    }
   ],
   "source": [
    "x.dot(y)\n",
    "#矩阵点乘"
   ]
  },
  {
   "cell_type": "code",
   "execution_count": 41,
   "id": "0a0ca8f4",
   "metadata": {},
   "outputs": [
    {
     "data": {
      "text/plain": [
       "array([[ 28.,  64.],\n",
       "       [ 67., 181.]])"
      ]
     },
     "execution_count": 41,
     "metadata": {},
     "output_type": "execute_result"
    }
   ],
   "source": [
    "np.dot(x, y)"
   ]
  },
  {
   "cell_type": "code",
   "execution_count": 42,
   "id": "8effbca9",
   "metadata": {},
   "outputs": [
    {
     "data": {
      "text/plain": [
       "array([ 6., 15.])"
      ]
     },
     "execution_count": 42,
     "metadata": {},
     "output_type": "execute_result"
    }
   ],
   "source": [
    "np.dot(x, np.ones(3))\n",
    "#numpy很怪，不懂咋算的,好像是正常点乘然后变型"
   ]
  },
  {
   "cell_type": "code",
   "execution_count": 43,
   "id": "c36aeae7",
   "metadata": {},
   "outputs": [
    {
     "data": {
      "text/plain": [
       "array([[ 6.],\n",
       "       [15.]])"
      ]
     },
     "execution_count": 43,
     "metadata": {},
     "output_type": "execute_result"
    }
   ],
   "source": [
    "np.dot(x, np.ones(3).reshape(3, 1))"
   ]
  },
  {
   "cell_type": "code",
   "execution_count": 45,
   "id": "3d7207f4",
   "metadata": {},
   "outputs": [
    {
     "data": {
      "text/plain": [
       "array([[ 6.],\n",
       "       [15.]])"
      ]
     },
     "execution_count": 45,
     "metadata": {},
     "output_type": "execute_result"
    }
   ],
   "source": [
    "x @ np.ones(3).reshape(3, 1)\n",
    "# @可以用于点乘矩阵操作,不.reshape出来的就是Out[42]"
   ]
  },
  {
   "cell_type": "code",
   "execution_count": 52,
   "id": "362570ea",
   "metadata": {},
   "outputs": [
    {
     "data": {
      "text/plain": [
       "array([[ 0.34661146, -0.19688191,  0.05331603, -0.14227472, -0.01478914],\n",
       "       [-0.19688191,  0.2599935 , -0.01296593,  0.08852132, -0.0290256 ],\n",
       "       [ 0.05331603, -0.01296593,  0.306874  , -0.20679221, -0.3179413 ],\n",
       "       [-0.14227472,  0.08852132, -0.20679221,  0.40355515,  0.33011213],\n",
       "       [-0.01478914, -0.0290256 , -0.3179413 ,  0.33011213,  0.84931919]])"
      ]
     },
     "execution_count": 52,
     "metadata": {},
     "output_type": "execute_result"
    }
   ],
   "source": [
    "from numpy.linalg import inv, qr\n",
    "#numpy.linalg 线性代数库\n",
    "X = np.random.randn(5, 5)\n",
    "mat = X.T.dot(X)\n",
    "# X的转置与X点乘\n",
    "inv(mat)\n",
    "# inv逆矩阵"
   ]
  },
  {
   "cell_type": "code",
   "execution_count": 54,
   "id": "7647d5dc",
   "metadata": {},
   "outputs": [
    {
     "data": {
      "text/plain": [
       "array([[ 1.00000000e+00, -7.43366458e-17,  1.08431565e-17,\n",
       "        -1.86079466e-16, -1.41641931e-17],\n",
       "       [-3.78963830e-18,  1.00000000e+00, -4.82576343e-18,\n",
       "        -4.45706000e-17, -5.90567547e-18],\n",
       "       [ 8.13843179e-18,  2.81760801e-18,  1.00000000e+00,\n",
       "         7.07999038e-17, -5.19545462e-17],\n",
       "       [-4.34066442e-17,  3.59027122e-17,  2.87780277e-17,\n",
       "         1.00000000e+00, -1.15648180e-16],\n",
       "       [ 4.28091582e-17, -1.89242408e-17,  2.49796866e-16,\n",
       "        -2.04857296e-16,  1.00000000e+00]])"
      ]
     },
     "execution_count": 54,
     "metadata": {},
     "output_type": "execute_result"
    }
   ],
   "source": [
    "mat.dot(inv(mat))\n",
    "#就是单位矩阵，不知道出什么问题了变成了无穷小的东西"
   ]
  },
  {
   "cell_type": "code",
   "execution_count": 56,
   "id": "3d3d73c2",
   "metadata": {},
   "outputs": [
    {
     "data": {
      "text/plain": [
       "array([[-6.83117259, -6.62394357,  0.60338175, -1.58570509,  0.56951212],\n",
       "       [ 0.        , -4.39123806,  0.82734027,  3.84228978, -1.56702364],\n",
       "       [ 0.        ,  0.        , -6.57941469, -2.48554793, -1.8018885 ],\n",
       "       [ 0.        ,  0.        ,  0.        , -3.21503011,  1.65109303],\n",
       "       [ 0.        ,  0.        ,  0.        ,  0.        ,  1.0355802 ]])"
      ]
     },
     "execution_count": 56,
     "metadata": {},
     "output_type": "execute_result"
    }
   ],
   "source": [
    "q, r = qr(mat)\n",
    "r\n",
    "#右上三角"
   ]
  },
  {
   "cell_type": "code",
   "execution_count": 57,
   "id": "6efe3360",
   "metadata": {},
   "outputs": [
    {
     "data": {
      "text/plain": [
       "array([[-0.81427495,  0.38518008,  0.02949073,  0.43299925, -0.01531534],\n",
       "       [-0.54197048, -0.76681221, -0.08241485, -0.33252268, -0.03005834],\n",
       "       [ 0.05367679,  0.01449163, -0.93216462,  0.13989253, -0.32925371],\n",
       "       [-0.19114832,  0.47347662, -0.23730922, -0.75239613,  0.34185759],\n",
       "       [ 0.06168823, -0.19810408, -0.25902037,  0.34098455,  0.87953813]])"
      ]
     },
     "execution_count": 57,
     "metadata": {},
     "output_type": "execute_result"
    }
   ],
   "source": [
    "q\n",
    "#正交矩阵 逆矩阵等于正交矩阵"
   ]
  },
  {
   "cell_type": "code",
   "execution_count": 58,
   "id": "c2796d2a",
   "metadata": {},
   "outputs": [
    {
     "data": {
      "text/plain": [
       "array([[ 1.00000000e+00, -1.34573963e-16, -1.29280761e-18,\n",
       "         1.65181610e-17,  1.50527857e-17],\n",
       "       [-1.34573963e-16,  1.00000000e+00, -8.86475125e-18,\n",
       "         4.33806964e-17, -3.37398516e-17],\n",
       "       [-1.29280761e-18, -8.86475125e-18,  1.00000000e+00,\n",
       "         2.20847875e-17, -3.08783839e-17],\n",
       "       [ 1.65181610e-17,  4.33806964e-17,  2.20847875e-17,\n",
       "         1.00000000e+00,  8.71519819e-17],\n",
       "       [ 1.50527857e-17, -3.37398516e-17, -3.08783839e-17,\n",
       "         8.71519819e-17,  1.00000000e+00]])"
      ]
     },
     "execution_count": 58,
     "metadata": {},
     "output_type": "execute_result"
    }
   ],
   "source": [
    "q.T.dot(q)\n",
    "#单位矩阵！"
   ]
  },
  {
   "cell_type": "markdown",
   "id": "1aa8a2fb",
   "metadata": {},
   "source": [
    "# 4.6 伪随机数生成"
   ]
  },
  {
   "cell_type": "code",
   "execution_count": 2,
   "id": "752a8e7f",
   "metadata": {},
   "outputs": [
    {
     "data": {
      "text/plain": [
       "array([[-0.0895946 , -0.49906533,  0.71120417,  0.79174433],\n",
       "       [ 1.69826683, -0.2115603 ,  0.05279772,  2.01390349],\n",
       "       [-0.50856669,  0.82485933,  2.13171473,  0.39076644],\n",
       "       [-0.74133622, -1.51563184, -0.10723698,  2.97100064]])"
      ]
     },
     "execution_count": 2,
     "metadata": {},
     "output_type": "execute_result"
    }
   ],
   "source": [
    "import numpy as np\n",
    "samples = np.random.normal(size=(4, 4))\n",
    "samples"
   ]
  },
  {
   "cell_type": "code",
   "execution_count": 3,
   "id": "d8cb4b69",
   "metadata": {},
   "outputs": [
    {
     "name": "stdout",
     "output_type": "stream",
     "text": [
      "1.12 s ± 23.2 ms per loop (mean ± std. dev. of 7 runs, 1 loop each)\n"
     ]
    }
   ],
   "source": [
    "from random import normalvariate\n",
    "N = 1000000\n",
    "%timeit samples = [normalvariate(0, 1) for _ in range(N)]"
   ]
  },
  {
   "cell_type": "code",
   "execution_count": 4,
   "id": "e2401d20",
   "metadata": {},
   "outputs": [
    {
     "name": "stdout",
     "output_type": "stream",
     "text": [
      "35.1 ms ± 1.87 ms per loop (mean ± std. dev. of 7 runs, 10 loops each)\n"
     ]
    }
   ],
   "source": [
    "%timeit np.random.normal(size=N)\n",
    "# numpy.random 比纯python回圈快很多"
   ]
  },
  {
   "cell_type": "code",
   "execution_count": 5,
   "id": "6f856345",
   "metadata": {},
   "outputs": [],
   "source": [
    "np.random.seed(1234)\n",
    "#确定随机数种子"
   ]
  },
  {
   "cell_type": "code",
   "execution_count": 6,
   "id": "e46beb19",
   "metadata": {},
   "outputs": [
    {
     "data": {
      "text/plain": [
       "array([ 0.47143516, -1.19097569,  1.43270697, -0.3126519 , -0.72058873,\n",
       "        0.88716294,  0.85958841, -0.6365235 ,  0.01569637, -2.24268495])"
      ]
     },
     "execution_count": 6,
     "metadata": {},
     "output_type": "execute_result"
    }
   ],
   "source": [
    "rng = np.random.RandomState(1234)\n",
    "rng.randn(10)"
   ]
  },
  {
   "cell_type": "markdown",
   "id": "46e063e7",
   "metadata": {},
   "source": [
    "# 4.7 随机漫步"
   ]
  },
  {
   "cell_type": "code",
   "execution_count": 10,
   "id": "489953de",
   "metadata": {},
   "outputs": [
    {
     "data": {
      "image/png": "[encoded data removed]",
      "text/plain": [
       "<Figure size 432x288 with 1 Axes>"
      ]
     },
     "metadata": {
      "needs_background": "light"
     },
     "output_type": "display_data"
    }
   ],
   "source": [
    "# 从0开始，步进为1或-1，且两种情况概率相等\n",
    "# a pure Python way using the built-in random module.\n",
    "from matplotlib import pyplot as plt\n",
    "import random\n",
    "position = 0\n",
    "walk = [position]\n",
    "steps = 1000\n",
    "for i in range(steps):\n",
    "    step = 1 if random.randint(0, 1) else -1  # 在[0,1]闭区间上取整数，1就进1，反之退1\n",
    "    position += step\n",
    "    walk.append(position)\n",
    "    \n",
    "plt.plot(walk[:100]) # 前100步\n",
    "plt.show()"
   ]
  },
  {
   "cell_type": "code",
   "execution_count": 11,
   "id": "708c5649",
   "metadata": {},
   "outputs": [],
   "source": [
    "# using the up.random module\n",
    "nsteps = 1000\n",
    "draws = np.random.randint(0, 2, size=nsteps)\n",
    "steps = np.where(draws > 0, 1, -1)\n",
    "walk = steps.cumsum()"
   ]
  },
  {
   "cell_type": "code",
   "execution_count": 12,
   "id": "04cc19c7",
   "metadata": {},
   "outputs": [],
   "source": [
    "np.random.randint?"
   ]
  },
  {
   "cell_type": "code",
   "execution_count": 14,
   "id": "73eb8704",
   "metadata": {},
   "outputs": [
    {
     "data": {
      "image/png": "[encoded data removed]",
      "text/plain": [
       "<Figure size 432x288 with 1 Axes>"
      ]
     },
     "metadata": {
      "needs_background": "light"
     },
     "output_type": "display_data"
    }
   ],
   "source": [
    "plt.plot(walk)\n",
    "plt.show()"
   ]
  },
  {
   "cell_type": "code",
   "execution_count": 15,
   "id": "4a5aadf6",
   "metadata": {},
   "outputs": [
    {
     "data": {
      "text/plain": [
       "-9"
      ]
     },
     "execution_count": 15,
     "metadata": {},
     "output_type": "execute_result"
    }
   ],
   "source": [
    "walk.min()"
   ]
  },
  {
   "cell_type": "code",
   "execution_count": 16,
   "id": "e163df18",
   "metadata": {},
   "outputs": [
    {
     "data": {
      "text/plain": [
       "60"
      ]
     },
     "execution_count": 16,
     "metadata": {},
     "output_type": "execute_result"
    }
   ],
   "source": [
    "walk.max()"
   ]
  },
  {
   "cell_type": "code",
   "execution_count": 38,
   "id": "0ad18965",
   "metadata": {},
   "outputs": [
    {
     "data": {
      "text/plain": [
       "297"
      ]
     },
     "execution_count": 38,
     "metadata": {},
     "output_type": "execute_result"
    }
   ],
   "source": [
    "(np.abs(walk) >= 10).argmax()\n",
    "# 内部：布尔值看有无变成True .argmax计算数组中 \n",
    "# 其实走了298步"
   ]
  },
  {
   "cell_type": "markdown",
   "id": "e917ef8a",
   "metadata": {},
   "source": [
    "# 4.7.1 一次性模拟多次随机漫步"
   ]
  },
  {
   "cell_type": "code",
   "execution_count": 19,
   "id": "c5204b86",
   "metadata": {},
   "outputs": [
    {
     "data": {
      "text/plain": [
       "array([[ -1,   0,   1, ...,  -6,  -5,  -4],\n",
       "       [ -1,  -2,  -1, ..., -18, -19, -18],\n",
       "       [  1,   0,  -1, ...,  24,  23,  22],\n",
       "       ...,\n",
       "       [ -1,   0,  -1, ...,  -2,  -3,  -4],\n",
       "       [ -1,   0,  -1, ...,  30,  29,  30],\n",
       "       [  1,   0,  -1, ...,  18,  19,  20]], dtype=int32)"
      ]
     },
     "execution_count": 19,
     "metadata": {},
     "output_type": "execute_result"
    }
   ],
   "source": [
    "# 二维\n",
    "nwalks = 5000\n",
    "nsteps = 1000\n",
    "draws = np.random.randint(0, 2 ,size=(nwalks, nsteps)) # 0 或 1\n",
    "steps = np.where(draws > 0 , 1, -1)\n",
    "walks = steps.cumsum(1)\n",
    "walks\n",
    "# 每一行一组从0开始漫步 5000*1000"
   ]
  },
  {
   "cell_type": "code",
   "execution_count": 20,
   "id": "ef1b7dd7",
   "metadata": {},
   "outputs": [
    {
     "data": {
      "image/png": "[encoded data removed]",
      "text/plain": [
       "<Figure size 432x288 with 1 Axes>"
      ]
     },
     "metadata": {
      "needs_background": "light"
     },
     "output_type": "display_data"
    }
   ],
   "source": [
    "for i in range(5000):\n",
    "    plt.plot(walks[i, :])\n",
    "    \n",
    "plt.show()"
   ]
  },
  {
   "cell_type": "code",
   "execution_count": 21,
   "id": "a8d8f043",
   "metadata": {},
   "outputs": [
    {
     "data": {
      "text/plain": [
       "137"
      ]
     },
     "execution_count": 21,
     "metadata": {},
     "output_type": "execute_result"
    }
   ],
   "source": [
    "walks.max()"
   ]
  },
  {
   "cell_type": "code",
   "execution_count": 22,
   "id": "a8728325",
   "metadata": {},
   "outputs": [
    {
     "data": {
      "text/plain": [
       "-137"
      ]
     },
     "execution_count": 22,
     "metadata": {},
     "output_type": "execute_result"
    }
   ],
   "source": [
    "walks.min()"
   ]
  },
  {
   "cell_type": "code",
   "execution_count": 23,
   "id": "f48a6e42",
   "metadata": {},
   "outputs": [
    {
     "data": {
      "text/plain": [
       "array([False,  True,  True, ..., False,  True,  True])"
      ]
     },
     "execution_count": 23,
     "metadata": {},
     "output_type": "execute_result"
    }
   ],
   "source": [
    "# 计算出30或-30的最小穿越时间 .any（因为不是所有的5000个都到了30）\n",
    "hits30 = (np.abs(walks) >= 30).any(1)\n",
    "hits30"
   ]
  },
  {
   "cell_type": "code",
   "execution_count": 24,
   "id": "43c13fa8",
   "metadata": {},
   "outputs": [
    {
     "data": {
      "text/plain": [
       "3431"
      ]
     },
     "execution_count": 24,
     "metadata": {},
     "output_type": "execute_result"
    }
   ],
   "source": [
    "hits30.sum()# 到达30或者-30的数字"
   ]
  },
  {
   "cell_type": "code",
   "execution_count": 25,
   "id": "70547f79",
   "metadata": {},
   "outputs": [
    {
     "data": {
      "text/plain": [
       "506.2532789274264"
      ]
     },
     "execution_count": 25,
     "metadata": {},
     "output_type": "execute_result"
    }
   ],
   "source": [
    "crossing_times = (np.abs(walks[hits30]) >= 30).argmax(1)\n",
    "crossing_times.mean()# 第一次穿越的平均值"
   ]
  },
  {
   "cell_type": "code",
   "execution_count": 26,
   "id": "428c6fa3",
   "metadata": {},
   "outputs": [
    {
     "data": {
      "text/plain": [
       "array([[  0.03029439,   0.15286046,   0.29318334, ...,  14.17853023,\n",
       "         14.39313086,  14.37308789],\n",
       "       [  0.16658007,   0.10736996,  -0.09537551, ..., -11.67265739,\n",
       "        -11.59098977, -11.88548553],\n",
       "       [  0.23376627,   0.33292394,   0.43459851, ...,  -2.59656044,\n",
       "         -2.49805768,  -2.14617613],\n",
       "       ...,\n",
       "       [  0.06424716,   0.21272095,   0.28844344, ...,  -4.14168749,\n",
       "         -4.05815041,  -4.03726892],\n",
       "       [ -0.18402932,  -0.20069813,  -0.17603488, ...,   2.36901552,\n",
       "          2.33173228,   2.45985933],\n",
       "       [  0.04437883,  -0.48776139,  -0.10306447, ...,   9.539326  ,\n",
       "          9.68438851,   9.55129882]])"
      ]
     },
     "execution_count": 26,
     "metadata": {},
     "output_type": "execute_result"
    }
   ],
   "source": [
    "#参数loc(float)：正态分布的均值，决定分布的位置\n",
    "#参数scale(float)：正态分布的标准差，对应分布的宽度，scale越大，正态分布的曲线越矮胖，scale越小，曲线越高瘦。\n",
    "#参数size(int 或者整数元组)：输出的值赋在shape里，默认为None。\n",
    "steps = np.random.normal(loc=0, scale=0.25, size=((nwalks, nsteps)))\n",
    "\n",
    "walks = steps.cumsum(1)\n",
    "\n",
    "walks"
   ]
  },
  {
   "cell_type": "code",
   "execution_count": 27,
   "id": "60ae7ed8",
   "metadata": {},
   "outputs": [
    {
     "data": {
      "image/png": "[encoded data removed]",
      "text/plain": [
       "<Figure size 432x288 with 1 Axes>"
      ]
     },
     "metadata": {
      "needs_background": "light"
     },
     "output_type": "display_data"
    }
   ],
   "source": [
    "for i in range(5000):\n",
    "    plt.plot(walks[i, :])\n",
    "    \n",
    "plt.show()"
   ]
  },
  {
   "cell_type": "code",
   "execution_count": 28,
   "id": "f3980411",
   "metadata": {},
   "outputs": [
    {
     "data": {
      "text/plain": [
       "29.630116834752503"
      ]
     },
     "execution_count": 28,
     "metadata": {},
     "output_type": "execute_result"
    }
   ],
   "source": [
    "walks.max()"
   ]
  },
  {
   "cell_type": "code",
   "execution_count": 29,
   "id": "ae207b84",
   "metadata": {},
   "outputs": [
    {
     "data": {
      "text/plain": [
       "-28.676113306088986"
      ]
     },
     "execution_count": 29,
     "metadata": {},
     "output_type": "execute_result"
    }
   ],
   "source": [
    "walks.min()"
   ]
  },
  {
   "cell_type": "code",
   "execution_count": 34,
   "id": "f9c6b4ae",
   "metadata": {},
   "outputs": [
    {
     "data": {
      "text/plain": [
       "array([False, False, False, ..., False, False, False])"
      ]
     },
     "execution_count": 34,
     "metadata": {},
     "output_type": "execute_result"
    }
   ],
   "source": [
    "hits20 = (np.abs(walks) >= 20).any(1)\n",
    "hits20"
   ]
  },
  {
   "cell_type": "code",
   "execution_count": 35,
   "id": "8f4a29a2",
   "metadata": {},
   "outputs": [
    {
     "data": {
      "text/plain": [
       "110"
      ]
     },
     "execution_count": 35,
     "metadata": {},
     "output_type": "execute_result"
    }
   ],
   "source": [
    "hits20.sum()"
   ]
  },
  {
   "cell_type": "code",
   "execution_count": 36,
   "id": "3cc7fb7b",
   "metadata": {},
   "outputs": [],
   "source": [
    "crossing_times = (np.abs(walks[hits20]) >= 20).argmax(1)"
   ]
  },
  {
   "cell_type": "code",
   "execution_count": 37,
   "id": "db3a18be",
   "metadata": {},
   "outputs": [
    {
     "data": {
      "text/plain": [
       "814.6454545454545"
      ]
     },
     "execution_count": 37,
     "metadata": {},
     "output_type": "execute_result"
    }
   ],
   "source": [
    "crossing_times.mean()"
   ]
  }
 ],
 "metadata": {
  "kernelspec": {
   "display_name": "Python 3",
   "language": "python",
   "name": "python3"
  },
  "language_info": {
   "codemirror_mode": {
    "name": "ipython",
    "version": 3
   },
   "file_extension": ".py",
   "mimetype": "text/x-python",
   "name": "python",
   "nbconvert_exporter": "python",
   "pygments_lexer": "ipython3",
   "version": "3.8.8"
  }
 },
 "nbformat": 4,
 "nbformat_minor": 5
}
